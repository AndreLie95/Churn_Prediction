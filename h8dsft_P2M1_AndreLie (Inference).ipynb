{
 "cells": [
  {
   "attachments": {},
   "cell_type": "markdown",
   "metadata": {},
   "source": [
    "# Milestone 1 Phase 2 (Inference)"
   ]
  },
  {
   "attachments": {},
   "cell_type": "markdown",
   "metadata": {},
   "source": [
    "## Introduction\n",
    "### Identity\n",
    "```txt\n",
    "Name : Andre Lie\n",
    "Class : FTDS (Offline)\n",
    "Batch : 03"
   ]
  },
  {
   "attachments": {},
   "cell_type": "markdown",
   "metadata": {},
   "source": [
    "## Model Inference"
   ]
  },
  {
   "attachments": {},
   "cell_type": "markdown",
   "metadata": {},
   "source": [
    "#### Import Library"
   ]
  },
  {
   "cell_type": "code",
   "execution_count": 4,
   "metadata": {},
   "outputs": [],
   "source": [
    "import pickle\n",
    "import pandas as pd\n",
    "import numpy as np\n",
    "import tensorflow as tf"
   ]
  },
  {
   "attachments": {},
   "cell_type": "markdown",
   "metadata": {},
   "source": [
    "### Load Model"
   ]
  },
  {
   "cell_type": "code",
   "execution_count": 5,
   "metadata": {},
   "outputs": [],
   "source": [
    "with open(\"pipeline.pkl\", \"rb\") as pipe:\n",
    "    pipeline = pickle.load(pipe)\n",
    "\n",
    "model_load = tf.keras.models.load_model('best_model.h5')"
   ]
  },
  {
   "attachments": {},
   "cell_type": "markdown",
   "metadata": {},
   "source": [
    "### Get Data for Model Inference"
   ]
  },
  {
   "cell_type": "code",
   "execution_count": 18,
   "metadata": {},
   "outputs": [
    {
     "data": {
      "text/html": [
       "<div>\n",
       "<style scoped>\n",
       "    .dataframe tbody tr th:only-of-type {\n",
       "        vertical-align: middle;\n",
       "    }\n",
       "\n",
       "    .dataframe tbody tr th {\n",
       "        vertical-align: top;\n",
       "    }\n",
       "\n",
       "    .dataframe thead th {\n",
       "        text-align: right;\n",
       "    }\n",
       "</style>\n",
       "<table border=\"1\" class=\"dataframe\">\n",
       "  <thead>\n",
       "    <tr style=\"text-align: right;\">\n",
       "      <th></th>\n",
       "      <th>points_in_wallet</th>\n",
       "      <th>avg_frequency_login_days</th>\n",
       "      <th>avg_transaction_value</th>\n",
       "      <th>membership_category</th>\n",
       "      <th>feedback</th>\n",
       "    </tr>\n",
       "  </thead>\n",
       "  <tbody>\n",
       "    <tr>\n",
       "      <th>0</th>\n",
       "      <td>2052.924314</td>\n",
       "      <td>32.484475</td>\n",
       "      <td>75819.871421</td>\n",
       "      <td>Premium Membership</td>\n",
       "      <td>Too many ads</td>\n",
       "    </tr>\n",
       "    <tr>\n",
       "      <th>1</th>\n",
       "      <td>150.396944</td>\n",
       "      <td>51.878851</td>\n",
       "      <td>30200.177355</td>\n",
       "      <td>Gold Membership</td>\n",
       "      <td>Too many ads</td>\n",
       "    </tr>\n",
       "    <tr>\n",
       "      <th>2</th>\n",
       "      <td>1398.322181</td>\n",
       "      <td>8.048528</td>\n",
       "      <td>71674.567406</td>\n",
       "      <td>No Membership</td>\n",
       "      <td>Quality Customer Care</td>\n",
       "    </tr>\n",
       "    <tr>\n",
       "      <th>3</th>\n",
       "      <td>1534.544306</td>\n",
       "      <td>51.890135</td>\n",
       "      <td>21281.304156</td>\n",
       "      <td>Platinum Membership</td>\n",
       "      <td>Poor Product Quality</td>\n",
       "    </tr>\n",
       "    <tr>\n",
       "      <th>4</th>\n",
       "      <td>1703.562538</td>\n",
       "      <td>35.321618</td>\n",
       "      <td>99397.535562</td>\n",
       "      <td>Silver Membership</td>\n",
       "      <td>Quality Customer Care</td>\n",
       "    </tr>\n",
       "    <tr>\n",
       "      <th>5</th>\n",
       "      <td>2030.061424</td>\n",
       "      <td>2.765135</td>\n",
       "      <td>90515.659365</td>\n",
       "      <td>Basic Membership</td>\n",
       "      <td>Products always in Stock</td>\n",
       "    </tr>\n",
       "    <tr>\n",
       "      <th>6</th>\n",
       "      <td>863.483936</td>\n",
       "      <td>36.685332</td>\n",
       "      <td>55634.801599</td>\n",
       "      <td>Silver Membership</td>\n",
       "      <td>Reasonable Price</td>\n",
       "    </tr>\n",
       "    <tr>\n",
       "      <th>7</th>\n",
       "      <td>1196.831368</td>\n",
       "      <td>56.377419</td>\n",
       "      <td>40937.105703</td>\n",
       "      <td>Gold Membership</td>\n",
       "      <td>Too many ads</td>\n",
       "    </tr>\n",
       "    <tr>\n",
       "      <th>8</th>\n",
       "      <td>677.419404</td>\n",
       "      <td>23.551961</td>\n",
       "      <td>16428.156099</td>\n",
       "      <td>Silver Membership</td>\n",
       "      <td>Products always in Stock</td>\n",
       "    </tr>\n",
       "    <tr>\n",
       "      <th>9</th>\n",
       "      <td>1762.020319</td>\n",
       "      <td>13.393804</td>\n",
       "      <td>37266.958412</td>\n",
       "      <td>Silver Membership</td>\n",
       "      <td>Poor Website</td>\n",
       "    </tr>\n",
       "  </tbody>\n",
       "</table>\n",
       "</div>"
      ],
      "text/plain": [
       "   points_in_wallet  avg_frequency_login_days  avg_transaction_value  \\\n",
       "0       2052.924314                 32.484475           75819.871421   \n",
       "1        150.396944                 51.878851           30200.177355   \n",
       "2       1398.322181                  8.048528           71674.567406   \n",
       "3       1534.544306                 51.890135           21281.304156   \n",
       "4       1703.562538                 35.321618           99397.535562   \n",
       "5       2030.061424                  2.765135           90515.659365   \n",
       "6        863.483936                 36.685332           55634.801599   \n",
       "7       1196.831368                 56.377419           40937.105703   \n",
       "8        677.419404                 23.551961           16428.156099   \n",
       "9       1762.020319                 13.393804           37266.958412   \n",
       "\n",
       "   membership_category                  feedback  \n",
       "0   Premium Membership              Too many ads  \n",
       "1      Gold Membership              Too many ads  \n",
       "2        No Membership     Quality Customer Care  \n",
       "3  Platinum Membership      Poor Product Quality  \n",
       "4    Silver Membership     Quality Customer Care  \n",
       "5     Basic Membership  Products always in Stock  \n",
       "6    Silver Membership          Reasonable Price  \n",
       "7      Gold Membership              Too many ads  \n",
       "8    Silver Membership  Products always in Stock  \n",
       "9    Silver Membership              Poor Website  "
      ]
     },
     "execution_count": 18,
     "metadata": {},
     "output_type": "execute_result"
    }
   ],
   "source": [
    "rng = np.random.default_rng(seed=2895)\n",
    "PIW = rng.uniform(0.0, 2069.1, size=10)\n",
    "AFLD = rng.uniform(0.0, 73.1, size=10)\n",
    "ATV = rng.uniform(800.5, 99914.1, size=10)\n",
    "Member = rng.choice(['No Membership', 'Basic Membership', 'Silver Membership', 'Premium Membership',\n",
    "                     'Gold Membership', 'Platinum Membership'], size=10)\n",
    "Feedback = rng.choice(['Poor Website', 'Poor Customer Service', 'Too many ads',\n",
    "                       'Poor Product Quality', 'No reason specified', 'Products always in Stock',\n",
    "                       'Reasonable Price', 'Quality Customer Care', 'User Friendly Website'], size=10)\n",
    "\n",
    "data_inf = pd.DataFrame({'points_in_wallet' : PIW,\n",
    "                         'avg_frequency_login_days' : AFLD,\n",
    "                         'avg_transaction_value' : ATV,\n",
    "                         'membership_category' : Member,\n",
    "                         'feedback' : Feedback})\n",
    "\n",
    "data_inf"
   ]
  },
  {
   "attachments": {},
   "cell_type": "markdown",
   "metadata": {},
   "source": [
    "### Inferencing"
   ]
  },
  {
   "attachments": {},
   "cell_type": "markdown",
   "metadata": {},
   "source": [
    "1. Scaling & Encoding"
   ]
  },
  {
   "cell_type": "code",
   "execution_count": 23,
   "metadata": {},
   "outputs": [],
   "source": [
    "data_inf_transform = pipeline.transform(data_inf)"
   ]
  },
  {
   "attachments": {},
   "cell_type": "markdown",
   "metadata": {},
   "source": [
    "2. Prediction Result"
   ]
  },
  {
   "cell_type": "code",
   "execution_count": 24,
   "metadata": {},
   "outputs": [
    {
     "name": "stdout",
     "output_type": "stream",
     "text": [
      "1/1 [==============================] - 0s 73ms/step\n"
     ]
    },
    {
     "data": {
      "text/html": [
       "<div>\n",
       "<style scoped>\n",
       "    .dataframe tbody tr th:only-of-type {\n",
       "        vertical-align: middle;\n",
       "    }\n",
       "\n",
       "    .dataframe tbody tr th {\n",
       "        vertical-align: top;\n",
       "    }\n",
       "\n",
       "    .dataframe thead th {\n",
       "        text-align: right;\n",
       "    }\n",
       "</style>\n",
       "<table border=\"1\" class=\"dataframe\">\n",
       "  <thead>\n",
       "    <tr style=\"text-align: right;\">\n",
       "      <th></th>\n",
       "      <th>points_in_wallet</th>\n",
       "      <th>avg_frequency_login_days</th>\n",
       "      <th>avg_transaction_value</th>\n",
       "      <th>membership_category</th>\n",
       "      <th>feedback</th>\n",
       "      <th>Churn Prediction</th>\n",
       "    </tr>\n",
       "  </thead>\n",
       "  <tbody>\n",
       "    <tr>\n",
       "      <th>0</th>\n",
       "      <td>2052.924314</td>\n",
       "      <td>32.484475</td>\n",
       "      <td>75819.871421</td>\n",
       "      <td>Premium Membership</td>\n",
       "      <td>Too many ads</td>\n",
       "      <td>0.0</td>\n",
       "    </tr>\n",
       "    <tr>\n",
       "      <th>1</th>\n",
       "      <td>150.396944</td>\n",
       "      <td>51.878851</td>\n",
       "      <td>30200.177355</td>\n",
       "      <td>Gold Membership</td>\n",
       "      <td>Too many ads</td>\n",
       "      <td>1.0</td>\n",
       "    </tr>\n",
       "    <tr>\n",
       "      <th>2</th>\n",
       "      <td>1398.322181</td>\n",
       "      <td>8.048528</td>\n",
       "      <td>71674.567406</td>\n",
       "      <td>No Membership</td>\n",
       "      <td>Quality Customer Care</td>\n",
       "      <td>0.0</td>\n",
       "    </tr>\n",
       "    <tr>\n",
       "      <th>3</th>\n",
       "      <td>1534.544306</td>\n",
       "      <td>51.890135</td>\n",
       "      <td>21281.304156</td>\n",
       "      <td>Platinum Membership</td>\n",
       "      <td>Poor Product Quality</td>\n",
       "      <td>0.0</td>\n",
       "    </tr>\n",
       "    <tr>\n",
       "      <th>4</th>\n",
       "      <td>1703.562538</td>\n",
       "      <td>35.321618</td>\n",
       "      <td>99397.535562</td>\n",
       "      <td>Silver Membership</td>\n",
       "      <td>Quality Customer Care</td>\n",
       "      <td>0.0</td>\n",
       "    </tr>\n",
       "    <tr>\n",
       "      <th>5</th>\n",
       "      <td>2030.061424</td>\n",
       "      <td>2.765135</td>\n",
       "      <td>90515.659365</td>\n",
       "      <td>Basic Membership</td>\n",
       "      <td>Products always in Stock</td>\n",
       "      <td>1.0</td>\n",
       "    </tr>\n",
       "    <tr>\n",
       "      <th>6</th>\n",
       "      <td>863.483936</td>\n",
       "      <td>36.685332</td>\n",
       "      <td>55634.801599</td>\n",
       "      <td>Silver Membership</td>\n",
       "      <td>Reasonable Price</td>\n",
       "      <td>0.0</td>\n",
       "    </tr>\n",
       "    <tr>\n",
       "      <th>7</th>\n",
       "      <td>1196.831368</td>\n",
       "      <td>56.377419</td>\n",
       "      <td>40937.105703</td>\n",
       "      <td>Gold Membership</td>\n",
       "      <td>Too many ads</td>\n",
       "      <td>0.0</td>\n",
       "    </tr>\n",
       "    <tr>\n",
       "      <th>8</th>\n",
       "      <td>677.419404</td>\n",
       "      <td>23.551961</td>\n",
       "      <td>16428.156099</td>\n",
       "      <td>Silver Membership</td>\n",
       "      <td>Products always in Stock</td>\n",
       "      <td>1.0</td>\n",
       "    </tr>\n",
       "    <tr>\n",
       "      <th>9</th>\n",
       "      <td>1762.020319</td>\n",
       "      <td>13.393804</td>\n",
       "      <td>37266.958412</td>\n",
       "      <td>Silver Membership</td>\n",
       "      <td>Poor Website</td>\n",
       "      <td>0.0</td>\n",
       "    </tr>\n",
       "  </tbody>\n",
       "</table>\n",
       "</div>"
      ],
      "text/plain": [
       "   points_in_wallet  avg_frequency_login_days  avg_transaction_value  \\\n",
       "0       2052.924314                 32.484475           75819.871421   \n",
       "1        150.396944                 51.878851           30200.177355   \n",
       "2       1398.322181                  8.048528           71674.567406   \n",
       "3       1534.544306                 51.890135           21281.304156   \n",
       "4       1703.562538                 35.321618           99397.535562   \n",
       "5       2030.061424                  2.765135           90515.659365   \n",
       "6        863.483936                 36.685332           55634.801599   \n",
       "7       1196.831368                 56.377419           40937.105703   \n",
       "8        677.419404                 23.551961           16428.156099   \n",
       "9       1762.020319                 13.393804           37266.958412   \n",
       "\n",
       "   membership_category                  feedback  Churn Prediction  \n",
       "0   Premium Membership              Too many ads               0.0  \n",
       "1      Gold Membership              Too many ads               1.0  \n",
       "2        No Membership     Quality Customer Care               0.0  \n",
       "3  Platinum Membership      Poor Product Quality               0.0  \n",
       "4    Silver Membership     Quality Customer Care               0.0  \n",
       "5     Basic Membership  Products always in Stock               1.0  \n",
       "6    Silver Membership          Reasonable Price               0.0  \n",
       "7      Gold Membership              Too many ads               0.0  \n",
       "8    Silver Membership  Products always in Stock               1.0  \n",
       "9    Silver Membership              Poor Website               0.0  "
      ]
     },
     "execution_count": 24,
     "metadata": {},
     "output_type": "execute_result"
    }
   ],
   "source": [
    "y_pred = np.round(model_load.predict(data_inf_transform))\n",
    "data_inf['Churn Prediction'] = y_pred\n",
    "data_inf"
   ]
  }
 ],
 "metadata": {
  "kernelspec": {
   "display_name": "base",
   "language": "python",
   "name": "python3"
  },
  "language_info": {
   "codemirror_mode": {
    "name": "ipython",
    "version": 3
   },
   "file_extension": ".py",
   "mimetype": "text/x-python",
   "name": "python",
   "nbconvert_exporter": "python",
   "pygments_lexer": "ipython3",
   "version": "3.9.13"
  },
  "orig_nbformat": 4,
  "vscode": {
   "interpreter": {
    "hash": "ad2bdc8ecc057115af97d19610ffacc2b4e99fae6737bb82f5d7fb13d2f2c186"
   }
  }
 },
 "nbformat": 4,
 "nbformat_minor": 2
}
